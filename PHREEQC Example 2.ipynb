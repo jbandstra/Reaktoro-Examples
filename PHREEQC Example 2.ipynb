{
 "cells": [
  {
   "cell_type": "markdown",
   "metadata": {},
   "source": [
    "  # Example 2 from the PHREEQC Manual.\n",
    "  See: https://wwwbrr.cr.usgs.gov/projects/GWC_coupled/phreeqc/phreeqc3-html/phreeqc3-57.htm#50528271_28577  \n",
    "  \n",
    "  The example deals with the relative stability of gypsum and anhydrite as a function of temperature. A solution is brought into equilibrium with a finite quanity of each phase. The less stable phase is converted into the more stable phase. Gypsum is the more stable phase for T < 55 C; anhydrite is more stable for T > 55 C."
   ]
  },
  {
   "cell_type": "code",
   "execution_count": 1,
   "metadata": {},
   "outputs": [],
   "source": [
    "import reaktoro as rkt\n",
    "import numpy as np\n",
    "import matplotlib.pyplot as plt"
   ]
  },
  {
   "cell_type": "markdown",
   "metadata": {},
   "source": [
    "## Develop calculation approach at a single temperature"
   ]
  },
  {
   "cell_type": "code",
   "execution_count": 2,
   "metadata": {},
   "outputs": [
    {
     "name": "stdout",
     "output_type": "stream",
     "text": [
      "AQUEOUS PROPERTIES AT EQUILIBRIUM\n",
      "+---------------------------------+-------------+-------+\n",
      "| Property                        |       Value |  Unit |\n",
      "+---------------------------------+-------------+-------+\n",
      "| Temperature                     |    348.1500 |     K |\n",
      "| Pressure                        |      1.0132 |   bar |\n",
      "| Ionic Strength (Effective)      |      0.0243 | molal |\n",
      "| Ionic Strength (Stoichiometric) |      0.0363 | molal |\n",
      "| pH                              |      7.0000 |       |\n",
      "| pE                              |     -3.8788 |       |\n",
      "| Eh                              |     -0.2680 |     V |\n",
      "| Charge Molality                 | -2.1208e-06 | molal |\n",
      "| Element Molality:               |             |       |\n",
      "| :: S                            |  9.0778e-03 | molal |\n",
      "| :: Ca                           |  9.0778e-03 | molal |\n",
      "| Species Molality:               |             |       |\n",
      "| :: H+                           |  1.1240e-07 | molal |\n",
      "| :: SO4-2                        |  6.0714e-03 | molal |\n",
      "| :: HS-                          |  9.6522e-17 | molal |\n",
      "| :: H2S                          |  9.6522e-17 | molal |\n",
      "| :: (H2S)2                       |  9.6522e-17 | molal |\n",
      "| :: HSO4-                        |  1.4396e-07 | molal |\n",
      "| :: Ca+2                         |  6.0716e-03 | molal |\n",
      "| :: CaHSO4+                      |  6.1385e-09 | molal |\n",
      "| :: CaOH+                        |  7.0220e-09 | molal |\n",
      "| :: CaSO4                        |  3.0062e-03 | molal |\n",
      "| :: H2                           |  9.6522e-17 | molal |\n",
      "| :: OH-                          |  2.3763e-06 | molal |\n",
      "| :: O2                           |  9.6522e-17 | molal |\n",
      "| :: S-2                          |  9.6522e-17 | molal |\n",
      "| Saturation Indices:             |             |       |\n",
      "| :: H2(g)                        |     -6.4505 |     - |\n",
      "| :: H2O(g)                       |     -0.4292 |     - |\n",
      "| :: H2S(g)                       |     -6.1730 |     - |\n",
      "| :: O2(g)                        |    -56.3145 |     - |\n",
      "| :: Anhydrite :: CaSO4           |     -0.0000 |     - |\n",
      "| :: Gypsum :: CaSO4:2H2O         |     -0.1950 |     - |\n",
      "| :: Sulfur                       |     -5.1902 |     - |\n",
      "| Saturation Ratios:              |             |       |\n",
      "| :: H2(g)                        |  3.5439e-07 |     - |\n",
      "| :: H2O(g)                       |  3.7223e-01 |     - |\n",
      "| :: H2S(g)                       |  6.7142e-07 |     - |\n",
      "| :: O2(g)                        |  4.8473e-57 |     - |\n",
      "| :: Anhydrite :: CaSO4           |  1.0000e+00 |     - |\n",
      "| :: Gypsum :: CaSO4:2H2O         |  6.3828e-01 |     - |\n",
      "| :: Sulfur                       |  6.4540e-06 |     - |\n",
      "+---------------------------------+-------------+-------+\n"
     ]
    }
   ],
   "source": [
    "# Define system with aq. species and gibbsite mineral\n",
    "db = rkt.PhreeqcDatabase(\"phreeqc.dat\")\n",
    "solution = rkt.AqueousPhase(rkt.speciate(\"H O Ca S\"))\n",
    "solution.setActivityModel(rkt.ActivityModelDebyeHuckelPHREEQC())\n",
    "Gypsum = rkt.MineralPhase(\"Gypsum\")\n",
    "Anhydrite = rkt.MineralPhase(\"Anhydrite\")\n",
    "system = rkt.ChemicalSystem(db, solution, Gypsum, Anhydrite)\n",
    "\n",
    "# Create a solver with fixed T, P, and P_CO2 that can be charge balanced by adjusting pH\n",
    "specs = rkt.EquilibriumSpecs(system)\n",
    "specs.temperature()\n",
    "specs.pressure()\n",
    "specs.pH()\n",
    "solver = rkt.EquilibriumSolver(specs)\n",
    "\n",
    "# Set an initial state for the solution\n",
    "state = rkt.ChemicalState(system)\n",
    "state.temperature(25.0, \"celsius\")\n",
    "state.pressure(1.0, \"atm\")\n",
    "state.set(\"H2O\", 1.0, \"kg\")\n",
    "state.set(\"Gypsum\", 1, \"mol\")\n",
    "state.set(\"Anhydrite\", 1, \"mol\")\n",
    "\n",
    "\n",
    "# Set conditions\n",
    "conditions = rkt.EquilibriumConditions(specs)\n",
    "conditions.temperature(75, \"celsius\")\n",
    "conditions.pressure(1, \"atm\")\n",
    "conditions.pH(7.0)\n",
    "\n",
    "# Equilibrate\n",
    "solver.solve(state, conditions)\n",
    "\n",
    "# print(\"FINAL STATE\")\n",
    "# print(state)\n",
    "\n",
    "aprops = rkt.AqueousProps(state)\n",
    "\n",
    "print(\"AQUEOUS PROPERTIES AT EQUILIBRIUM\")\n",
    "print(aprops)"
   ]
  },
  {
   "cell_type": "code",
   "execution_count": 3,
   "metadata": {},
   "outputs": [
    {
     "name": "stdout",
     "output_type": "stream",
     "text": [
      "-2.28296e-09\n",
      "-0.194987\n"
     ]
    }
   ],
   "source": [
    "print(aprops.saturationIndex(\"Anhydrite\"))\n",
    "print(aprops.saturationIndex(\"Gypsum\"))"
   ]
  },
  {
   "cell_type": "markdown",
   "metadata": {},
   "source": [
    "## Loop over temperature values from 25 to 75 C"
   ]
  },
  {
   "cell_type": "code",
   "execution_count": 16,
   "metadata": {},
   "outputs": [],
   "source": [
    "# Define system with aq. species and gibbsite mineral\n",
    "db = rkt.PhreeqcDatabase(\"phreeqc.dat\")\n",
    "solution = rkt.AqueousPhase(rkt.speciate(\"H O Ca S\"))\n",
    "solution.setActivityModel(rkt.ActivityModelDebyeHuckelPHREEQC())\n",
    "Gypsum = rkt.MineralPhase(\"Gypsum\")\n",
    "Anhydrite = rkt.MineralPhase(\"Anhydrite\")\n",
    "system = rkt.ChemicalSystem(db, solution, Gypsum, Anhydrite)\n",
    "\n",
    "# Create a solver with fixed T, P, and P_CO2 that can be charge balanced by adjusting pH\n",
    "specs = rkt.EquilibriumSpecs(system)\n",
    "specs.temperature()\n",
    "specs.pressure()\n",
    "specs.pH()\n",
    "solver = rkt.EquilibriumSolver(specs)\n",
    "\n",
    "# Set an initial state for the solution\n",
    "state = rkt.ChemicalState(system)\n",
    "state.temperature(25.0, \"celsius\")\n",
    "state.pressure(1.0, \"atm\")\n",
    "state.set(\"H2O\", 1.0, \"kg\")\n",
    "state.set(\"Gypsum\", 1, \"mol\")\n",
    "state.set(\"Anhydrite\", 1, \"mol\")\n",
    "\n",
    "# Create function to output SI of Gypsum and Anhydrite\n",
    "def SatIndexCalc(T):\n",
    "    # Set conditions\n",
    "    conditions = rkt.EquilibriumConditions(specs)\n",
    "    conditions.temperature(T, \"celsius\")\n",
    "    conditions.pressure(1, \"atm\")\n",
    "    conditions.pH(7.0)\n",
    "\n",
    "    # Equilibrate\n",
    "    solver.solve(state, conditions)\n",
    "\n",
    "    # print(\"FINAL STATE\")\n",
    "    # print(state)\n",
    "\n",
    "    aprops = rkt.AqueousProps(state)\n",
    "\n",
    "    # print(\"AQUEOUS PROPERTIES AT EQUILIBRIUM\")\n",
    "    # print(aprops)\n",
    "    return [aprops.saturationIndex(\"Gypsum\")[0], aprops.saturationIndex(\"Anhydrite\")[0]]\n",
    "\n",
    "# Perform loop over Temperature\n",
    "T_arr = np.linspace(25,75)\n",
    "output = [SatIndexCalc(T) for T in T_arr]"
   ]
  },
  {
   "cell_type": "markdown",
   "metadata": {},
   "source": [
    "## Plot results"
   ]
  },
  {
   "cell_type": "code",
   "execution_count": 17,
   "metadata": {},
   "outputs": [
    {
     "data": {
      "text/plain": [
       "<matplotlib.legend.Legend at 0x1f698db5b90>"
      ]
     },
     "execution_count": 17,
     "metadata": {},
     "output_type": "execute_result"
    },
    {
     "data": {
      "image/png": "[encoded data removed]",
      "text/plain": [
       "<Figure size 640x480 with 1 Axes>"
      ]
     },
     "metadata": {},
     "output_type": "display_data"
    }
   ],
   "source": [
    "plt.plot(T_arr, np.array(output)[:,0], 'r-', label='Gypsum')\n",
    "plt.plot(T_arr, np.array(output)[:,1], 'g-', label='Anhydrite')\n",
    "plt.xlabel('T ($^{\\circ} C$)')\n",
    "plt.ylabel('Saturation Index')\n",
    "plt.legend()"
   ]
  },
  {
   "cell_type": "code",
   "execution_count": null,
   "metadata": {},
   "outputs": [],
   "source": []
  }
 ],
 "metadata": {
  "kernelspec": {
   "display_name": "rkt",
   "language": "python",
   "name": "python3"
  },
  "language_info": {
   "codemirror_mode": {
    "name": "ipython",
    "version": 3
   },
   "file_extension": ".py",
   "mimetype": "text/x-python",
   "name": "python",
   "nbconvert_exporter": "python",
   "pygments_lexer": "ipython3",
   "version": "3.11.4"
  },
  "orig_nbformat": 4
 },
 "nbformat": 4,
 "nbformat_minor": 2
}
