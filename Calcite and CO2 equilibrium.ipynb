{
 "cells": [
  {
   "cell_type": "code",
   "execution_count": 3,
   "metadata": {},
   "outputs": [],
   "source": [
    "import reaktoro as rkt\n",
    "import numpy as np\n",
    "import matplotlib.pyplot as plt"
   ]
  },
  {
   "cell_type": "code",
   "execution_count": 8,
   "metadata": {},
   "outputs": [
    {
     "name": "stdout",
     "output_type": "stream",
     "text": [
      "AQUEOUS PROPERTIES AT EQUILIBRIUM\n",
      "+---------------------------------+------------+-------+\n",
      "| Property                        |      Value |  Unit |\n",
      "+---------------------------------+------------+-------+\n",
      "| Temperature                     |   298.1500 |     K |\n",
      "| Pressure                        |     1.0132 |   bar |\n",
      "| Ionic Strength (Effective)      |     0.0015 | molal |\n",
      "| Ionic Strength (Stoichiometric) |     0.0015 | molal |\n",
      "| pH                              |     8.2756 |       |\n",
      "| pE                              |    -3.8472 |       |\n",
      "| Eh                              |    -0.2276 |     V |\n",
      "| Charge Molality                 | 2.7529e-20 | molal |\n",
      "| Element Molality:               |            |       |\n",
      "| :: C                            | 9.8554e-04 | molal |\n",
      "| :: Ca                           | 4.9590e-04 | molal |\n",
      "| Species Molality:               |            |       |\n",
      "| :: CO3-2                        | 9.5943e-06 | molal |\n",
      "| :: H+                           | 5.5222e-09 | molal |\n",
      "| :: CO2                          | 1.0899e-05 | molal |\n",
      "| :: (CO2)2                       | 2.1813e-12 | molal |\n",
      "| :: HCO3-                        | 9.5451e-04 | molal |\n",
      "| :: CH4                          | 1.0000e-16 | molal |\n",
      "| :: Ca+2                         | 4.8534e-04 | molal |\n",
      "| :: CaCO3                        | 5.5612e-06 | molal |\n",
      "| :: CaHCO3+                      | 4.9823e-06 | molal |\n",
      "| :: CaOH+                        | 1.3407e-08 | molal |\n",
      "| :: H2                           | 1.0000e-16 | molal |\n",
      "| :: OH-                          | 1.9942e-06 | molal |\n",
      "| :: O2                           | 1.0000e-16 | molal |\n",
      "| Saturation Indices:             |            |       |\n",
      "| :: CH4(g)                       |   -13.2037 |     - |\n",
      "| :: CO2(g)                       |    -3.5000 |     - |\n",
      "| :: H2(g)                        |    -8.9116 |     - |\n",
      "| :: H2O(g)                       |    -1.5086 |     - |\n",
      "| :: O2(g)                        |   -65.4795 |     - |\n",
      "| :: Aragonite :: CaCO3           |    -0.1439 |     - |\n",
      "| :: Calcite :: CaCO3             |    -0.0000 |     - |\n",
      "| Saturation Ratios:              |            |       |\n",
      "| :: CH4(g)                       | 6.2561e-14 |     - |\n",
      "| :: CO2(g)                       | 3.1623e-04 |     - |\n",
      "| :: H2(g)                        | 1.2258e-09 |     - |\n",
      "| :: H2O(g)                       | 3.1006e-02 |     - |\n",
      "| :: O2(g)                        | 3.3149e-66 |     - |\n",
      "| :: Aragonite :: CaCO3           | 7.1795e-01 |     - |\n",
      "| :: Calcite :: CaCO3             | 1.0000e+00 |     - |\n",
      "+---------------------------------+------------+-------+\n"
     ]
    }
   ],
   "source": [
    "# Define system with aq. species and gibbsite mineral\n",
    "db = rkt.PhreeqcDatabase(\"phreeqc.dat\")\n",
    "solution = rkt.AqueousPhase(rkt.speciate(\"H O C Ca\"))\n",
    "solution.setActivityModel(rkt.ActivityModelDebyeHuckelPHREEQC())\n",
    "Calcite = rkt.MineralPhase(\"Calcite\")\n",
    "gaseousphase = rkt.GaseousPhase(\"CO2(g)\")\n",
    "# gaseousphase.set(rkt.ActivityModelPengRobinsonPhreeqc())\n",
    "gaseousphase.set(rkt.ActivityModelIdealGas())\n",
    "system = rkt.ChemicalSystem(db, solution, gaseousphase, Calcite)\n",
    "\n",
    "# Create a solver with fixed T, P, and P_CO2 that can be charge balanced by adjusting pH\n",
    "specs = rkt.EquilibriumSpecs(system)\n",
    "specs.temperature()\n",
    "specs.pressure()\n",
    "specs.fugacity(\"CO2(g)\")\n",
    "specs.charge()\n",
    "specs.openTo(\"H+\")\n",
    "solver = rkt.EquilibriumSolver(specs)\n",
    "\n",
    "# Set an initial state for the solution\n",
    "state = rkt.ChemicalState(system)\n",
    "state.temperature(25.0, \"celsius\")\n",
    "state.pressure(1.0, \"atm\")\n",
    "state.set(\"H2O\", 1.0, \"kg\")\n",
    "state.set(\"Calcite\", 10, \"mol\")\n",
    "\n",
    "\n",
    "# Set conditions\n",
    "conditions = rkt.EquilibriumConditions(specs)\n",
    "conditions.temperature(25, \"celsius\")\n",
    "conditions.pressure(1, \"atm\")\n",
    "conditions.fugacity(\"CO2(g)\", 10**-3.5, \"atm\")\n",
    "conditions.charge(0.0)\n",
    "\n",
    "# Equilibrate\n",
    "solver.solve(state, conditions)\n",
    "\n",
    "# print(\"FINAL STATE\")\n",
    "# print(state)\n",
    "\n",
    "aprops = rkt.AqueousProps(state)\n",
    "\n",
    "print(\"AQUEOUS PROPERTIES AT EQUILIBRIUM\")\n",
    "print(aprops)"
   ]
  },
  {
   "cell_type": "code",
   "execution_count": 4,
   "metadata": {},
   "outputs": [
    {
     "data": {
      "text/plain": [
       "0.00031622776601683794"
      ]
     },
     "execution_count": 4,
     "metadata": {},
     "output_type": "execute_result"
    }
   ],
   "source": [
    "10**-3.5"
   ]
  },
  {
   "cell_type": "code",
   "execution_count": null,
   "metadata": {},
   "outputs": [],
   "source": []
  }
 ],
 "metadata": {
  "kernelspec": {
   "display_name": "rkt",
   "language": "python",
   "name": "python3"
  },
  "language_info": {
   "codemirror_mode": {
    "name": "ipython",
    "version": 3
   },
   "file_extension": ".py",
   "mimetype": "text/x-python",
   "name": "python",
   "nbconvert_exporter": "python",
   "pygments_lexer": "ipython3",
   "version": "3.11.4"
  },
  "orig_nbformat": 4
 },
 "nbformat": 4,
 "nbformat_minor": 2
}
