{
 "cells": [
  {
   "cell_type": "code",
   "execution_count": 1,
   "metadata": {},
   "outputs": [],
   "source": [
    "import reaktoro as rkt\n",
    "import numpy as np\n",
    "import matplotlib.pyplot as plt"
   ]
  },
  {
   "attachments": {},
   "cell_type": "markdown",
   "metadata": {},
   "source": [
    "Find the pH of a solution of HCl by adding Cl- in a fixed ammount and titrating H+ to balance charge."
   ]
  },
  {
   "cell_type": "code",
   "execution_count": 14,
   "metadata": {},
   "outputs": [
    {
     "name": "stdout",
     "output_type": "stream",
     "text": [
      "FINAL STATE\n",
      "+-----------------+-------------+------+\n",
      "| Property        |       Value | Unit |\n",
      "+-----------------+-------------+------+\n",
      "| Temperature     |    298.1500 |    K |\n",
      "| Pressure        |      1.0132 |  bar |\n",
      "| Charge:         | -2.5516e-21 |  mol |\n",
      "| Element Amount: |             |      |\n",
      "| :: H            |  1.1101e+02 |  mol |\n",
      "| :: O            |  5.5506e+01 |  mol |\n",
      "| :: Cl           |  1.0000e-04 |  mol |\n",
      "| Species Amount: |             |      |\n",
      "| :: H+           |  1.0000e-04 |  mol |\n",
      "| :: H2O          |  5.5506e+01 |  mol |\n",
      "| :: Cl-          |  1.0000e-04 |  mol |\n",
      "| :: H2           |  1.0000e-16 |  mol |\n",
      "| :: OH-          |  1.0358e-10 |  mol |\n",
      "| :: O2           |  1.0000e-16 |  mol |\n",
      "+-----------------+-------------+------+\n",
      "AQUEOUS PROPERTIES AT EQUILIBRIUM\n",
      "+---------------------------------+-------------+-------+\n",
      "| Property                        |       Value |  Unit |\n",
      "+---------------------------------+-------------+-------+\n",
      "| Temperature                     |    298.1500 |     K |\n",
      "| Pressure                        |      1.0132 |   bar |\n",
      "| Ionic Strength (Effective)      |      0.0001 | molal |\n",
      "| Ionic Strength (Stoichiometric) |      0.0001 | molal |\n",
      "| pH                              |      4.0050 |       |\n",
      "| pE                              |     13.5150 |       |\n",
      "| Eh                              |      0.7995 |     V |\n",
      "| Charge Molality                 | -2.5516e-21 | molal |\n",
      "| Element Molality:               |             |       |\n",
      "| :: Cl                           |  1.0000e-04 | molal |\n",
      "| Species Molality:               |             |       |\n",
      "| :: H+                           |  1.0000e-04 | molal |\n",
      "| :: Cl-                          |  1.0000e-04 | molal |\n",
      "| :: H2                           |  1.0000e-16 | molal |\n",
      "| :: OH-                          |  1.0358e-10 | molal |\n",
      "| :: O2                           |  1.0000e-16 | molal |\n",
      "| Saturation Indices:             |             |       |\n",
      "| :: H2(g)                        |    -35.0946 |     - |\n",
      "| :: H2O(g)                       |     -1.5085 |     - |\n",
      "| :: O2(g)                        |    -13.1133 |     - |\n",
      "| Saturation Ratios:              |             |       |\n",
      "| :: H2(g)                        |  8.0418e-36 |     - |\n",
      "| :: H2O(g)                       |  3.1007e-02 |     - |\n",
      "| :: O2(g)                        |  7.7029e-14 |     - |\n",
      "+---------------------------------+-------------+-------+\n"
     ]
    }
   ],
   "source": [
    "# Define system with aq. species\n",
    "db = rkt.PhreeqcDatabase(\"phreeqc.dat\")\n",
    "solution = rkt.AqueousPhase(rkt.speciate(\"H O Cl\"))\n",
    "solution.setActivityModel(rkt.ActivityModelDebyeHuckelPHREEQC())\n",
    "system = rkt.ChemicalSystem(db, solution)\n",
    "\n",
    "# Create a solver with fixed T, P that can be charge balanced by adjusting pH\n",
    "specs = rkt.EquilibriumSpecs(system)\n",
    "specs.temperature()\n",
    "specs.pressure()\n",
    "specs.charge()\n",
    "specs.openTo(\"H+\")\n",
    "solver = rkt.EquilibriumSolver(specs)\n",
    "\n",
    "# Set an initial state for the solution\n",
    "state = rkt.ChemicalState(system)\n",
    "state.temperature(25.0, \"celsius\")\n",
    "state.pressure(1.0, \"atm\")\n",
    "state.set(\"H2O\", 1.0, \"kg\")\n",
    "state.set(\"Cl-\"    , 0.0001, \"mol\")\n",
    "\n",
    "\n",
    "# Set conditions\n",
    "conditions = rkt.EquilibriumConditions(specs)\n",
    "conditions.temperature(25, \"celsius\")\n",
    "conditions.pressure(1, \"atm\")\n",
    "conditions.charge(0.0)\n",
    "\n",
    "# Equilibrate\n",
    "solver.solve(state, conditions)\n",
    "\n",
    "print(\"FINAL STATE\")\n",
    "print(state)\n",
    "\n",
    "aprops = rkt.AqueousProps(state)\n",
    "\n",
    "print(\"AQUEOUS PROPERTIES AT EQUILIBRIUM\")\n",
    "print(aprops)"
   ]
  },
  {
   "cell_type": "code",
   "execution_count": 15,
   "metadata": {},
   "outputs": [
    {
     "name": "stdout",
     "output_type": "stream",
     "text": [
      "Amount of H+ that entered the system: 0.0001 mol\n",
      "pH = 4.0050\n"
     ]
    }
   ],
   "source": [
    "print(f\"Amount of H+ that entered the system: {state.equilibrium().titrantAmount('H+')} mol\")\n",
    "print(f'pH = {aprops.pH():.4f}')"
   ]
  },
  {
   "cell_type": "code",
   "execution_count": null,
   "metadata": {},
   "outputs": [],
   "source": []
  },
  {
   "attachments": {},
   "cell_type": "markdown",
   "metadata": {},
   "source": [
    "Find the pH of an NaOH soln. using a similar method as that done above."
   ]
  },
  {
   "cell_type": "code",
   "execution_count": 16,
   "metadata": {},
   "outputs": [
    {
     "name": "stdout",
     "output_type": "stream",
     "text": [
      "FINAL STATE\n",
      "+-----------------+------------+------+\n",
      "| Property        |      Value | Unit |\n",
      "+-----------------+------------+------+\n",
      "| Temperature     |   298.1500 |    K |\n",
      "| Pressure        |     1.0132 |  bar |\n",
      "| Charge:         | 0.0000e+00 |  mol |\n",
      "| Element Amount: |            |      |\n",
      "| :: H            | 1.1101e+02 |  mol |\n",
      "| :: O            | 5.5506e+01 |  mol |\n",
      "| :: Na           | 1.0000e-04 |  mol |\n",
      "| Species Amount: |            |      |\n",
      "| :: H+           | 1.0358e-10 |  mol |\n",
      "| :: H2O          | 5.5506e+01 |  mol |\n",
      "| :: H2           | 1.0000e-16 |  mol |\n",
      "| :: Na+          | 1.0000e-04 |  mol |\n",
      "| :: OH-          | 1.0000e-04 |  mol |\n",
      "| :: NaOH         | 1.0000e-16 |  mol |\n",
      "| :: O2           | 1.0000e-16 |  mol |\n",
      "+-----------------+------------+------+\n",
      "AQUEOUS PROPERTIES AT EQUILIBRIUM\n",
      "+---------------------------------+------------+-------+\n",
      "| Property                        |      Value |  Unit |\n",
      "+---------------------------------+------------+-------+\n",
      "| Temperature                     |   298.1500 |     K |\n",
      "| Pressure                        |     1.0132 |   bar |\n",
      "| Ionic Strength (Effective)      |     0.0001 | molal |\n",
      "| Ionic Strength (Stoichiometric) |     0.0001 | molal |\n",
      "| pH                              |     9.9897 |       |\n",
      "| pE                              |     7.5303 |       |\n",
      "| Eh                              |     0.4455 |     V |\n",
      "| Charge Molality                 | 0.0000e+00 | molal |\n",
      "| Element Molality:               |            |       |\n",
      "| :: Na                           | 1.0000e-04 | molal |\n",
      "| Species Molality:               |            |       |\n",
      "| :: H+                           | 1.0358e-10 | molal |\n",
      "| :: H2                           | 1.0000e-16 | molal |\n",
      "| :: Na+                          | 1.0000e-04 | molal |\n",
      "| :: OH-                          | 1.0000e-04 | molal |\n",
      "| :: NaOH                         | 1.0000e-16 | molal |\n",
      "| :: O2                           | 1.0000e-16 | molal |\n",
      "| Saturation Indices:             |            |       |\n",
      "| :: H2(g)                        |   -35.0946 |     - |\n",
      "| :: H2O(g)                       |    -1.5085 |     - |\n",
      "| :: O2(g)                        |   -13.1133 |     - |\n",
      "| Saturation Ratios:              |            |       |\n",
      "| :: H2(g)                        | 8.0418e-36 |     - |\n",
      "| :: H2O(g)                       | 3.1007e-02 |     - |\n",
      "| :: O2(g)                        | 7.7029e-14 |     - |\n",
      "+---------------------------------+------------+-------+\n"
     ]
    }
   ],
   "source": [
    "# Define system with aq. species\n",
    "db = rkt.PhreeqcDatabase(\"phreeqc.dat\")\n",
    "solution = rkt.AqueousPhase(rkt.speciate(\"H O Na\"))\n",
    "solution.setActivityModel(rkt.ActivityModelDebyeHuckelPHREEQC())\n",
    "system = rkt.ChemicalSystem(db, solution)\n",
    "\n",
    "# Create a solver with fixed T, P that can be charge balanced by adjusting pH\n",
    "specs = rkt.EquilibriumSpecs(system)\n",
    "specs.temperature()\n",
    "specs.pressure()\n",
    "specs.charge()\n",
    "specs.openTo(\"OH-\")\n",
    "solver = rkt.EquilibriumSolver(specs)\n",
    "\n",
    "# Set an initial state for the solution\n",
    "state = rkt.ChemicalState(system)\n",
    "state.temperature(25.0, \"celsius\")\n",
    "state.pressure(1.0, \"atm\")\n",
    "state.set(\"H2O\", 1.0, \"kg\")\n",
    "state.set(\"Na+\"    , 0.0001, \"mol\")\n",
    "\n",
    "\n",
    "# Set conditions\n",
    "conditions = rkt.EquilibriumConditions(specs)\n",
    "conditions.temperature(25, \"celsius\")\n",
    "conditions.pressure(1, \"atm\")\n",
    "conditions.charge(0.0)\n",
    "\n",
    "# Equilibrate\n",
    "solver.solve(state, conditions)\n",
    "\n",
    "print(\"FINAL STATE\")\n",
    "print(state)\n",
    "\n",
    "aprops = rkt.AqueousProps(state)\n",
    "\n",
    "print(\"AQUEOUS PROPERTIES AT EQUILIBRIUM\")\n",
    "print(aprops)"
   ]
  },
  {
   "cell_type": "code",
   "execution_count": 18,
   "metadata": {},
   "outputs": [
    {
     "name": "stdout",
     "output_type": "stream",
     "text": [
      "Amount of OH- that entered the system: 0.0001 mol\n",
      "pH = 9.9897\n"
     ]
    }
   ],
   "source": [
    "print(f\"Amount of OH- that entered the system: {state.equilibrium().titrantAmount('OH-')} mol\")\n",
    "print(f'pH = {aprops.pH():.4f}')"
   ]
  },
  {
   "attachments": {},
   "cell_type": "markdown",
   "metadata": {},
   "source": [
    "Is it possible to make a NaOH soln by removing H+?"
   ]
  },
  {
   "cell_type": "code",
   "execution_count": 19,
   "metadata": {},
   "outputs": [
    {
     "name": "stdout",
     "output_type": "stream",
     "text": [
      "FINAL STATE\n",
      "+-----------------+------------+------+\n",
      "| Property        |      Value | Unit |\n",
      "+-----------------+------------+------+\n",
      "| Temperature     |   298.1500 |    K |\n",
      "| Pressure        |     1.0132 |  bar |\n",
      "| Charge:         | 0.0000e+00 |  mol |\n",
      "| Element Amount: |            |      |\n",
      "| :: H            | 1.1101e+02 |  mol |\n",
      "| :: O            | 5.5506e+01 |  mol |\n",
      "| :: Na           | 1.0000e-04 |  mol |\n",
      "| Species Amount: |            |      |\n",
      "| :: H+           | 1.0358e-10 |  mol |\n",
      "| :: H2O          | 5.5506e+01 |  mol |\n",
      "| :: H2           | 1.0000e-16 |  mol |\n",
      "| :: Na+          | 1.0000e-04 |  mol |\n",
      "| :: OH-          | 1.0000e-04 |  mol |\n",
      "| :: NaOH         | 1.0000e-16 |  mol |\n",
      "| :: O2           | 1.0000e-16 |  mol |\n",
      "+-----------------+------------+------+\n",
      "AQUEOUS PROPERTIES AT EQUILIBRIUM\n",
      "+---------------------------------+------------+-------+\n",
      "| Property                        |      Value |  Unit |\n",
      "+---------------------------------+------------+-------+\n",
      "| Temperature                     |   298.1500 |     K |\n",
      "| Pressure                        |     1.0132 |   bar |\n",
      "| Ionic Strength (Effective)      |     0.0001 | molal |\n",
      "| Ionic Strength (Stoichiometric) |     0.0001 | molal |\n",
      "| pH                              |     9.9897 |       |\n",
      "| pE                              |     7.5303 |       |\n",
      "| Eh                              |     0.4455 |     V |\n",
      "| Charge Molality                 | 0.0000e+00 | molal |\n",
      "| Element Molality:               |            |       |\n",
      "| :: Na                           | 1.0000e-04 | molal |\n",
      "| Species Molality:               |            |       |\n",
      "| :: H+                           | 1.0358e-10 | molal |\n",
      "| :: H2                           | 1.0000e-16 | molal |\n",
      "| :: Na+                          | 1.0000e-04 | molal |\n",
      "| :: OH-                          | 1.0000e-04 | molal |\n",
      "| :: NaOH                         | 1.0000e-16 | molal |\n",
      "| :: O2                           | 1.0000e-16 | molal |\n",
      "| Saturation Indices:             |            |       |\n",
      "| :: H2(g)                        |   -35.0946 |     - |\n",
      "| :: H2O(g)                       |    -1.5085 |     - |\n",
      "| :: O2(g)                        |   -13.1133 |     - |\n",
      "| Saturation Ratios:              |            |       |\n",
      "| :: H2(g)                        | 8.0418e-36 |     - |\n",
      "| :: H2O(g)                       | 3.1007e-02 |     - |\n",
      "| :: O2(g)                        | 7.7029e-14 |     - |\n",
      "+---------------------------------+------------+-------+\n"
     ]
    }
   ],
   "source": [
    "# Define system with aq. species\n",
    "db = rkt.PhreeqcDatabase(\"phreeqc.dat\")\n",
    "solution = rkt.AqueousPhase(rkt.speciate(\"H O Na\"))\n",
    "solution.setActivityModel(rkt.ActivityModelDebyeHuckelPHREEQC())\n",
    "system = rkt.ChemicalSystem(db, solution)\n",
    "\n",
    "# Create a solver with fixed T, P that can be charge balanced by adjusting pH\n",
    "specs = rkt.EquilibriumSpecs(system)\n",
    "specs.temperature()\n",
    "specs.pressure()\n",
    "specs.charge()\n",
    "specs.openTo(\"H+\")\n",
    "solver = rkt.EquilibriumSolver(specs)\n",
    "\n",
    "# Set an initial state for the solution\n",
    "state = rkt.ChemicalState(system)\n",
    "state.temperature(25.0, \"celsius\")\n",
    "state.pressure(1.0, \"atm\")\n",
    "state.set(\"H2O\", 1.0, \"kg\")\n",
    "state.set(\"Na+\"    , 0.0001, \"mol\")\n",
    "\n",
    "\n",
    "# Set conditions\n",
    "conditions = rkt.EquilibriumConditions(specs)\n",
    "conditions.temperature(25, \"celsius\")\n",
    "conditions.pressure(1, \"atm\")\n",
    "conditions.charge(0.0)\n",
    "\n",
    "# Equilibrate\n",
    "solver.solve(state, conditions)\n",
    "\n",
    "print(\"FINAL STATE\")\n",
    "print(state)\n",
    "\n",
    "aprops = rkt.AqueousProps(state)\n",
    "\n",
    "print(\"AQUEOUS PROPERTIES AT EQUILIBRIUM\")\n",
    "print(aprops)"
   ]
  },
  {
   "cell_type": "code",
   "execution_count": 20,
   "metadata": {},
   "outputs": [
    {
     "name": "stdout",
     "output_type": "stream",
     "text": [
      "Amount of H+ that left the system: -0.0001 mol\n",
      "pH = 9.9897\n"
     ]
    }
   ],
   "source": [
    "print(f\"Amount of H+ that left the system: {state.equilibrium().titrantAmount('H+')} mol\")\n",
    "print(f'pH = {aprops.pH():.4f}')"
   ]
  },
  {
   "cell_type": "code",
   "execution_count": null,
   "metadata": {},
   "outputs": [],
   "source": []
  }
 ],
 "metadata": {
  "kernelspec": {
   "display_name": "rkt",
   "language": "python",
   "name": "python3"
  },
  "language_info": {
   "codemirror_mode": {
    "name": "ipython",
    "version": 3
   },
   "file_extension": ".py",
   "mimetype": "text/x-python",
   "name": "python",
   "nbconvert_exporter": "python",
   "pygments_lexer": "ipython3",
   "version": "3.11.4"
  },
  "orig_nbformat": 4
 },
 "nbformat": 4,
 "nbformat_minor": 2
}
