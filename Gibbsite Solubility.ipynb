{
 "cells": [
  {
   "cell_type": "code",
   "execution_count": 1,
   "metadata": {},
   "outputs": [],
   "source": [
    "import reaktoro as rkt\n",
    "import numpy as np\n",
    "import matplotlib.pyplot as plt"
   ]
  },
  {
   "cell_type": "code",
   "execution_count": 2,
   "metadata": {},
   "outputs": [
    {
     "name": "stdout",
     "output_type": "stream",
     "text": [
      "FINAL STATE\n",
      "+------------------------+------------+------+\n",
      "| Property               |      Value | Unit |\n",
      "+------------------------+------------+------+\n",
      "| Temperature            |   298.1500 |    K |\n",
      "| Pressure               |     1.0132 |  bar |\n",
      "| Charge:                | 1.2084e-19 |  mol |\n",
      "| Element Amount:        |            |      |\n",
      "| :: H                   | 1.4101e+02 |  mol |\n",
      "| :: O                   | 8.5506e+01 |  mol |\n",
      "| :: Na                  | 1.0000e-02 |  mol |\n",
      "| :: Al                  | 1.0000e+01 |  mol |\n",
      "| :: Cl                  | 1.0001e-02 |  mol |\n",
      "| Species Amount:        |            |      |\n",
      "| :: H+                  | 1.0951e-06 |  mol |\n",
      "| :: H2O                 | 5.5506e+01 |  mol |\n",
      "| :: Al+3                | 2.9231e-10 |  mol |\n",
      "| :: Al(OH)2+            | 1.1090e-08 |  mol |\n",
      "| :: Al(OH)3             | 1.4743e-09 |  mol |\n",
      "| :: Al(OH)4-            | 3.0844e-09 |  mol |\n",
      "| :: AlOH+2              | 1.9110e-09 |  mol |\n",
      "| :: Cl-                 | 1.0001e-02 |  mol |\n",
      "| :: H2                  | 1.0000e-16 |  mol |\n",
      "| :: Na+                 | 1.0000e-02 |  mol |\n",
      "| :: OH-                 | 1.1243e-08 |  mol |\n",
      "| :: NaOH                | 1.0000e-16 |  mol |\n",
      "| :: O2                  | 1.0000e-16 |  mol |\n",
      "| :: Gibbsite :: Al(OH)3 | 1.0000e+01 |  mol |\n",
      "+------------------------+------------+------+\n",
      "AQUEOUS PROPERTIES AT EQUILIBRIUM\n",
      "+---------------------------------+------------+-------+\n",
      "| Property                        |      Value |  Unit |\n",
      "+---------------------------------+------------+-------+\n",
      "| Temperature                     |   298.1500 |     K |\n",
      "| Pressure                        |     1.0132 |   bar |\n",
      "| Ionic Strength (Effective)      |     0.0100 | molal |\n",
      "| Ionic Strength (Stoichiometric) |     0.0100 | molal |\n",
      "| pH                              |     6.0000 |       |\n",
      "| pE                              |    11.5204 |       |\n",
      "| Eh                              |     0.6815 |     V |\n",
      "| Charge Molality                 | 1.2084e-19 | molal |\n",
      "| Element Molality:               |            |       |\n",
      "| :: Na                           | 1.0000e-02 | molal |\n",
      "| :: Al                           | 1.7852e-08 | molal |\n",
      "| :: Cl                           | 1.0001e-02 | molal |\n",
      "| Species Molality:               |            |       |\n",
      "| :: H+                           | 1.0951e-06 | molal |\n",
      "| :: Al+3                         | 2.9231e-10 | molal |\n",
      "| :: Al(OH)2+                     | 1.1090e-08 | molal |\n",
      "| :: Al(OH)3                      | 1.4743e-09 | molal |\n",
      "| :: Al(OH)4-                     | 3.0844e-09 | molal |\n",
      "| :: AlOH+2                       | 1.9110e-09 | molal |\n",
      "| :: Cl-                          | 1.0001e-02 | molal |\n",
      "| :: H2                           | 1.0000e-16 | molal |\n",
      "| :: Na+                          | 1.0000e-02 | molal |\n",
      "| :: OH-                          | 1.1243e-08 | molal |\n",
      "| :: NaOH                         | 1.0000e-16 | molal |\n",
      "| :: O2                           | 1.0000e-16 | molal |\n",
      "| Saturation Indices:             |            |       |\n",
      "| :: H2(g)                        |   -35.0954 |     - |\n",
      "| :: H2O(g)                       |    -1.5088 |     - |\n",
      "| :: O2(g)                        |   -13.1124 |     - |\n",
      "| :: Al(OH)3(a)                   |    -2.6900 |     - |\n",
      "| :: Gibbsite :: Al(OH)3          |     0.0000 |     - |\n",
      "| :: Halite :: NaCl               |    -5.6597 |     - |\n",
      "| Saturation Ratios:              |            |       |\n",
      "| :: H2(g)                        | 8.0285e-36 |     - |\n",
      "| :: H2O(g)                       | 3.0991e-02 |     - |\n",
      "| :: O2(g)                        | 7.7205e-14 |     - |\n",
      "| :: Al(OH)3(a)                   | 2.0417e-03 |     - |\n",
      "| :: Gibbsite :: Al(OH)3          | 1.0000e+00 |     - |\n",
      "| :: Halite :: NaCl               | 2.1891e-06 |     - |\n",
      "+---------------------------------+------------+-------+\n"
     ]
    }
   ],
   "source": [
    "# Define system with aq. species and gibbsite mineral\n",
    "db = rkt.PhreeqcDatabase(\"phreeqc.dat\")\n",
    "solution = rkt.AqueousPhase(rkt.speciate(\"H O Al Na Cl\"))\n",
    "solution.setActivityModel(rkt.ActivityModelDebyeHuckelPHREEQC())\n",
    "Gibbsite = rkt.MineralPhase(\"Gibbsite\")\n",
    "system = rkt.ChemicalSystem(db, solution, Gibbsite)\n",
    "\n",
    "# Create a solver with fixed T, P, pH\n",
    "specs = rkt.EquilibriumSpecs(system)\n",
    "specs.temperature()\n",
    "specs.pressure()\n",
    "specs.pH()\n",
    "specs.charge()\n",
    "specs.openTo(\"Cl-\")\n",
    "solver = rkt.EquilibriumSolver(specs)\n",
    "\n",
    "\n",
    "# Set an initial state for the solution\n",
    "state = rkt.ChemicalState(system)\n",
    "state.temperature(25.0, \"celsius\")\n",
    "state.pressure(1.0, \"atm\")\n",
    "state.set(\"H2O\", 1.0, \"kg\")\n",
    "state.set(\"Na+\"    , 0.01, \"mol\")\n",
    "state.set(\"Cl-\"    , 0.01, \"mol\")\n",
    "state.set(\"Al+3\", 0.00001, \"mol\")\n",
    "state.set(\"Gibbsite\", 10, \"mol\")\n",
    "\n",
    "\n",
    "# Set conditions\n",
    "conditions = rkt.EquilibriumConditions(specs)\n",
    "conditions.temperature(25, \"celsius\")\n",
    "conditions.pressure(1, \"atm\")\n",
    "conditions.pH(6.0)\n",
    "conditions.charge(0.0)\n",
    "\n",
    "# Equilibrate\n",
    "solver.solve(state, conditions)\n",
    "\n",
    "print(\"FINAL STATE\")\n",
    "print(state)\n",
    "\n",
    "aprops = rkt.AqueousProps(state)\n",
    "\n",
    "print(\"AQUEOUS PROPERTIES AT EQUILIBRIUM\")\n",
    "print(aprops)"
   ]
  },
  {
   "cell_type": "code",
   "execution_count": 3,
   "metadata": {},
   "outputs": [],
   "source": [
    "# Define system with aq. species and calcite mineral\n",
    "db = rkt.PhreeqcDatabase(\"phreeqc.dat\")\n",
    "solution = rkt.AqueousPhase(rkt.speciate(\"H O Al\"))\n",
    "solution.setActivityModel(rkt.ActivityModelIdealAqueous()) # ActivityModelIdealAqueous # ActivityModelDebyeHuckelPHREEQC\n",
    "Gibbsite = rkt.MineralPhase(\"Gibbsite\")\n",
    "system = rkt.ChemicalSystem(db, solution, Gibbsite)\n",
    "\n",
    "# Create a solver with fixed T, P, pH\n",
    "specs = rkt.EquilibriumSpecs(system)\n",
    "specs.temperature()\n",
    "specs.pressure()\n",
    "specs.pH()\n",
    "# specs.charge()\n",
    "# specs.openTo(\"Na+\")\n",
    "solver = rkt.EquilibriumSolver(specs)\n",
    "\n",
    "def Gibbsite_Sol(pH):\n",
    "    # Set an initial state for the solution\n",
    "    state = rkt.ChemicalState(system)\n",
    "    state.temperature(25.0, \"celsius\")\n",
    "    state.pressure(1.0, \"atm\")\n",
    "    state.set(\"H2O\", 1.0, \"kg\")\n",
    "    # state.set(\"Na+\"    , 0.0, \"mol\")\n",
    "    # state.set(\"Cl-\"    , 0.0, \"mol\")\n",
    "    state.set(\"Al+3\", 0.05, \"mol\")\n",
    "    state.set(\"Gibbsite\", 100, \"mol\")\n",
    "    # Set conditions\n",
    "    conditions = rkt.EquilibriumConditions(specs)\n",
    "    conditions.temperature(25, \"celsius\")\n",
    "    conditions.pressure(1, \"atm\")\n",
    "    conditions.pH(pH)\n",
    "    # conditions.charge(0.0)\n",
    "\n",
    "    # Equilibrate\n",
    "    result = solver.solve(state, conditions)\n",
    "    \n",
    "    # print(\"FINAL STATE\")\n",
    "    # print(state)\n",
    "    if result.succeeded() == True:\n",
    "        aprops = rkt.AqueousProps(state)\n",
    "        return aprops.elementMolality('Al')\n",
    "    else:\n",
    "        return np.nan"
   ]
  },
  {
   "cell_type": "code",
   "execution_count": 4,
   "metadata": {},
   "outputs": [
    {
     "data": {
      "text/plain": [
       "[]"
      ]
     },
     "execution_count": 4,
     "metadata": {},
     "output_type": "execute_result"
    },
    {
     "data": {
      "image/png": "[encoded data removed]",
      "text/plain": [
       "<Figure size 640x480 with 1 Axes>"
      ]
     },
     "metadata": {},
     "output_type": "display_data"
    }
   ],
   "source": [
    "pH_arr = np.linspace(2,14,50)\n",
    "Al_arr = np.array([Gibbsite_Sol(pH) for pH in pH_arr])\n",
    "plt.plot(pH_arr, Al_arr)\n",
    "plt.semilogy()"
   ]
  },
  {
   "cell_type": "code",
   "execution_count": 174,
   "metadata": {},
   "outputs": [
    {
     "data": {
      "text/plain": [
       "autodiff.real(15.6211, 0)"
      ]
     },
     "execution_count": 174,
     "metadata": {},
     "output_type": "execute_result"
    }
   ],
   "source": [
    "Gibbsite_Sol(-1.0)"
   ]
  },
  {
   "cell_type": "code",
   "execution_count": 149,
   "metadata": {},
   "outputs": [
    {
     "name": "stdout",
     "output_type": "stream",
     "text": [
      "H+\n",
      "H2O\n",
      "Al+3\n",
      "Al(OH)2+\n",
      "Al(OH)3\n",
      "Al(OH)4-\n",
      "AlOH+2\n",
      "H2\n",
      "OH-\n",
      "O2\n",
      "Al(OH)3(a)\n",
      "Gibbsite\n",
      "H2(g)\n",
      "H2O(g)\n",
      "O2(g)\n"
     ]
    }
   ],
   "source": [
    "db = rkt.PhreeqcDatabase(\"phreeqc.dat\")\n",
    "for sp in db.species().withElements(\"H O Al\"):\n",
    "    print(sp.name())"
   ]
  },
  {
   "cell_type": "code",
   "execution_count": 36,
   "metadata": {},
   "outputs": [
    {
     "name": "stdout",
     "output_type": "stream",
     "text": [
      "AqueousPhase\n",
      ":: H+\n",
      ":: H2O\n",
      ":: Al+3\n",
      ":: Al(OH)2+\n",
      ":: Al(OH)3\n",
      ":: Al(OH)4-\n",
      ":: AlOH+2\n",
      ":: H2\n",
      ":: OH-\n",
      ":: O2\n",
      "Gibbsite\n",
      ":: Gibbsite\n"
     ]
    }
   ],
   "source": [
    "for phase in system.phases():\n",
    "    print(phase.name())\n",
    "    for species in phase.species():\n",
    "        print(\":: \" + species.name())"
   ]
  },
  {
   "cell_type": "code",
   "execution_count": null,
   "metadata": {},
   "outputs": [],
   "source": []
  }
 ],
 "metadata": {
  "kernelspec": {
   "display_name": "rkt",
   "language": "python",
   "name": "python3"
  },
  "language_info": {
   "codemirror_mode": {
    "name": "ipython",
    "version": 3
   },
   "file_extension": ".py",
   "mimetype": "text/x-python",
   "name": "python",
   "nbconvert_exporter": "python",
   "pygments_lexer": "ipython3",
   "version": "3.11.4"
  },
  "orig_nbformat": 4
 },
 "nbformat": 4,
 "nbformat_minor": 2
}
